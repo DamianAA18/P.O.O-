{
  "nbformat": 4,
  "nbformat_minor": 0,
  "metadata": {
    "colab": {
      "provenance": [],
      "authorship_tag": "ABX9TyOpiWNU/rvNchgPwsqctYOV",
      "include_colab_link": true
    },
    "kernelspec": {
      "name": "python3",
      "display_name": "Python 3"
    },
    "language_info": {
      "name": "python"
    }
  },
  "cells": [
    {
      "cell_type": "markdown",
      "metadata": {
        "id": "view-in-github",
        "colab_type": "text"
      },
      "source": [
        "<a href=\"https://colab.research.google.com/github/DamianAA18/P.O.O-/blob/main/EjerciciosOperacionesPOO.ipynb\" target=\"_parent\"><img src=\"https://colab.research.google.com/assets/colab-badge.svg\" alt=\"Open In Colab\"/></a>"
      ]
    },
    {
      "cell_type": "markdown",
      "source": [
        "Programa Realizado el 13 de Febrero de 2024\n",
        "Aguileta Argueta Mario Damián\n",
        "No. de Control 24590347\n",
        "Programacion Orientada a Objetos\n"
      ],
      "metadata": {
        "id": "Hxpuf8tU66cR"
      }
    },
    {
      "cell_type": "markdown",
      "source": [
        "***1er Programa del dia:***"
      ],
      "metadata": {
        "id": "N4fa7PBpNnA2"
      }
    },
    {
      "cell_type": "code",
      "execution_count": 31,
      "metadata": {
        "colab": {
          "base_uri": "https://localhost:8080/"
        },
        "id": "S2U_SuC26iEZ",
        "outputId": "e10fa28d-7600-4a67-f68e-8b3af6f56e58"
      },
      "outputs": [
        {
          "output_type": "stream",
          "name": "stdout",
          "text": [
            "Ingresa el primer valor: 3\n",
            "Ingresa el segundo valor: 4\n",
            "El resultado es igual a: 7\n"
          ]
        }
      ],
      "source": [
        "class Operaciones():\n",
        "  def __init__ (self,a,b):\n",
        "    self.a=a\n",
        "    self.b=b\n",
        "  def suma(self):\n",
        "    self.res=self.a+self.b\n",
        "    return (self.res)\n",
        "\n",
        "v1=int(input(\"Ingresa el primer valor: \"))\n",
        "v2=int(input(\"Ingresa el segundo valor: \"))\n",
        "obj=Operaciones(v1,v2)\n",
        "r=obj.suma()\n",
        "print(f\"El resultado es igual a: {r}\")"
      ]
    },
    {
      "cell_type": "markdown",
      "source": [
        "***2do Programa del Dia:***"
      ],
      "metadata": {
        "id": "9BGFtFlKNqy9"
      }
    },
    {
      "cell_type": "code",
      "source": [
        "class Figuras:\n",
        "    def __init__(self):\n",
        "        self.a = 0\n",
        "        self.b = 0\n",
        "        self.c = 0\n",
        "\n",
        "    def operaciones(self):\n",
        "        print(\"\"\"Seleccione una figura para calcular su área:\")\n",
        "        1. Círculo\n",
        "        2. Trapecio\n",
        "        3. Rectangulo\"\"\")\n",
        "\n",
        "        r = int(input(\"Ingresa una opciòn\"))\n",
        "        return (r)\n",
        "\n",
        "    def circulo (self, r):\n",
        "        areaCirculo = 3.1416 * r**2\n",
        "        return (areaCirculo)\n",
        "\n",
        "    def Trapecio (self, b1, b2, h):\n",
        "        areaTrapecio = ((b1+b2) * h) / 2\n",
        "        return (areaTrapecio)\n",
        "    def Rectangulo (self, b,h):\n",
        "        areaRectangulo = b * h\n",
        "        return (areaRectangulo)"
      ],
      "metadata": {
        "id": "uLhuij6gExYd"
      },
      "execution_count": 32,
      "outputs": []
    },
    {
      "cell_type": "code",
      "source": [
        "obj = Figuras ()\n",
        "s = obj.operaciones()\n",
        "if s == 1:\n",
        "    obj.a = float(input(\"Dame el valor del radio\"))\n",
        "    resultado = obj.circulo(obj.a)\n",
        "    print (f\"El area del circulo es {resultado}\")\n",
        "\n",
        "elif s == 2:\n",
        "    obj.a = float(input(\"Dame el valor de la base menor\"))\n",
        "    obj.b = float(input(\"Dame el valor de la base mayor\"))\n",
        "    obj.c = float(input(\"Dame el valor de la h\"))\n",
        "    resultado = obj.Trapecio(obj.a, obj.c, obj.b)\n",
        "    print(f\"El area del trapecio es: {resultado} \")\n",
        "\n",
        "\n",
        "elif s == 3:\n",
        "    obj.a = float(input(\"Dame el valor de la altura\"))\n",
        "    obj.b  = float(input(\"Dame el valor de la base\"))\n",
        "    resultado = obj.Rectangulo(obj.a, obj.b)\n",
        "    print(f\"El area del rectangulo es: {resultado} \")\n",
        "else:\n",
        "    print (\"Seleccione una opción valida\")"
      ],
      "metadata": {
        "colab": {
          "base_uri": "https://localhost:8080/"
        },
        "id": "p4EA12wyE4Yc",
        "outputId": "4cf43353-4f73-42e6-f519-098176ce8ee4"
      },
      "execution_count": 33,
      "outputs": [
        {
          "output_type": "stream",
          "name": "stdout",
          "text": [
            "Seleccione una figura para calcular su área:\")\n",
            "        1. Círculo\n",
            "        2. Trapecio\n",
            "        3. Rectangulo\n",
            "Ingresa una opciòn3\n",
            "Dame el valor de la altura4\n",
            "Dame el valor de la base5\n",
            "El area del rectangulo es: 20.0 \n"
          ]
        }
      ]
    },
    {
      "cell_type": "markdown",
      "source": [
        "Estos programas fueron revisados y corregidos posteriormente por mi, ya que, perdi el avance que tenia en clase y tuve que volver a hacerlos, realizando las correcciones correspondientes durante el proceso.\n",
        "Hechos - Corregidos tanto en Google Colab, como en VSCode del 13 de Febrero al 17 de Febrero"
      ],
      "metadata": {
        "id": "AfQagijIE5VF"
      }
    }
  ]
}