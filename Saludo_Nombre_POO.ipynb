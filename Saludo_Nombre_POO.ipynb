{
  "nbformat": 4,
  "nbformat_minor": 0,
  "metadata": {
    "colab": {
      "provenance": [],
      "authorship_tag": "ABX9TyPReSpSlFpWreV8DknhykS0",
      "include_colab_link": true
    },
    "kernelspec": {
      "name": "python3",
      "display_name": "Python 3"
    },
    "language_info": {
      "name": "python"
    }
  },
  "cells": [
    {
      "cell_type": "markdown",
      "metadata": {
        "id": "view-in-github",
        "colab_type": "text"
      },
      "source": [
        "<a href=\"https://colab.research.google.com/github/DamianAA18/P.O.O-/blob/main/Saludo_Nombre_POO.ipynb\" target=\"_parent\"><img src=\"https://colab.research.google.com/assets/colab-badge.svg\" alt=\"Open In Colab\"/></a>"
      ]
    },
    {
      "cell_type": "markdown",
      "source": [
        "Este es un programa hecho por:\n",
        "Mario Damian Aguileta Argueta\n",
        "06/02/2025\n"
      ],
      "metadata": {
        "id": "nGb-Rdo57SUC"
      }
    },
    {
      "cell_type": "code",
      "source": [
        "class Saludo:\n",
        "  def __init__(self):\n",
        "      self.nombre=\"Mario\"\n",
        "  def saludas(self):\n",
        "      print(\"Hola, \",self.nombre)"
      ],
      "metadata": {
        "id": "4IlqbRxn3ZVF"
      },
      "execution_count": 22,
      "outputs": []
    },
    {
      "cell_type": "code",
      "source": [
        "x=Saludo()\n",
        "x.saludas()"
      ],
      "metadata": {
        "colab": {
          "base_uri": "https://localhost:8080/"
        },
        "id": "b73emED18cFd",
        "outputId": "e3ce3a97-0970-409a-9a7d-8c7542cd5743"
      },
      "execution_count": 23,
      "outputs": [
        {
          "output_type": "stream",
          "name": "stdout",
          "text": [
            "Hola,  Mario\n"
          ]
        }
      ]
    },
    {
      "cell_type": "markdown",
      "source": [
        "Programa de Clase, (POO), con \"class\"\n",
        "Hecho con guia del Profe"
      ],
      "metadata": {
        "id": "yqrHUvCB3Hig"
      }
    }
  ]
}