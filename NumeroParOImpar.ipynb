{
  "nbformat": 4,
  "nbformat_minor": 0,
  "metadata": {
    "colab": {
      "provenance": [],
      "authorship_tag": "ABX9TyPByIvwXJikjMjdFvFZ49AB",
      "include_colab_link": true
    },
    "kernelspec": {
      "name": "python3",
      "display_name": "Python 3"
    },
    "language_info": {
      "name": "python"
    }
  },
  "cells": [
    {
      "cell_type": "markdown",
      "metadata": {
        "id": "view-in-github",
        "colab_type": "text"
      },
      "source": [
        "<a href=\"https://colab.research.google.com/github/DamianAA18/P.O.O-/blob/main/NumeroParOImpar.ipynb\" target=\"_parent\"><img src=\"https://colab.research.google.com/assets/colab-badge.svg\" alt=\"Open In Colab\"/></a>"
      ]
    },
    {
      "cell_type": "markdown",
      "source": [
        "Programa Realizado por:"
      ],
      "metadata": {
        "id": "_0CAJoukPLU7"
      }
    },
    {
      "cell_type": "markdown",
      "source": [
        "Mario Damián Aguileta Argueta\n",
        "Programa de clase el viernes 14 de Febrero de 2025\n"
      ],
      "metadata": {
        "id": "5kCap2fpPQBw"
      }
    },
    {
      "cell_type": "markdown",
      "source": [
        "Realizado el 17 de Febrero de 2025"
      ],
      "metadata": {
        "id": "saq62Y4peIk7"
      }
    },
    {
      "cell_type": "code",
      "source": [
        "class NumeroParoImpar():\n",
        "  def __init__(self):\n",
        "    self.num=0\n",
        "  def pedirNums(self):\n",
        "    self.num=int(input(\"Ingrese el numero: \"))\n",
        "  def numeroPar (self):\n",
        "    return self.num%2==0\n",
        "  def imprimirRes(self):\n",
        "    if self.numeroPar():\n",
        "      print(\"El numero es par\")\n",
        "    else:\n",
        "      print(\"El numero es impar\")"
      ],
      "metadata": {
        "id": "o2IOXuKIPPfT"
      },
      "execution_count": 11,
      "outputs": []
    },
    {
      "cell_type": "code",
      "source": [
        "par=NumeroParoImpar()\n",
        "par.pedirNums()\n",
        "par.numeroPar()\n",
        "par.imprimirRes()"
      ],
      "metadata": {
        "id": "fkMaU5K2eBLW"
      },
      "execution_count": null,
      "outputs": []
    }
  ]
}