{
  "nbformat": 4,
  "nbformat_minor": 0,
  "metadata": {
    "colab": {
      "provenance": [],
      "authorship_tag": "ABX9TyMRpycftNRzZNkoMaCL81vx",
      "include_colab_link": true
    },
    "kernelspec": {
      "name": "python3",
      "display_name": "Python 3"
    },
    "language_info": {
      "name": "python"
    }
  },
  "cells": [
    {
      "cell_type": "markdown",
      "metadata": {
        "id": "view-in-github",
        "colab_type": "text"
      },
      "source": [
        "<a href=\"https://colab.research.google.com/github/DamianAA18/P.O.O-/blob/main/Operaciones2Nums_POO.ipynb\" target=\"_parent\"><img src=\"https://colab.research.google.com/assets/colab-badge.svg\" alt=\"Open In Colab\"/></a>"
      ]
    },
    {
      "cell_type": "markdown",
      "source": [
        "Programas Hechos en Clase P.O.O."
      ],
      "metadata": {
        "id": "fm6unea5-_Xl"
      }
    },
    {
      "cell_type": "markdown",
      "source": [
        "Realizado por:\n",
        "Mario Damián Aguileta Argueta\n",
        "Fecha: 06/02/2025\n",
        "No. de Control: 24590347\n"
      ],
      "metadata": {
        "id": "IQ-1ZsiP_DyW"
      }
    },
    {
      "cell_type": "markdown",
      "source": [
        "Programa que pide dos numeros dentro de la funcion e imprime el resultado en pantalla"
      ],
      "metadata": {
        "id": "BynyiujaKCOc"
      }
    },
    {
      "cell_type": "code",
      "execution_count": 32,
      "metadata": {
        "colab": {
          "base_uri": "https://localhost:8080/"
        },
        "id": "EpykEbwq-4zH",
        "outputId": "42b71b47-bf34-4e62-ccee-4868de7ecf41"
      },
      "outputs": [
        {
          "output_type": "stream",
          "name": "stdout",
          "text": [
            "Ingresa el primer numero a sumar: 30\n",
            "Ingresa el segundo numero a sumar: 14\n",
            "El Resultado es igual a:  44\n"
          ]
        }
      ],
      "source": [
        "class SumaNum():\n",
        "  def __init__(self):\n",
        "    self.n1=0\n",
        "    self.n2=0\n",
        "    self.resutado=0\n",
        "  def pedirnum(self):\n",
        "    self.n1=int(input(\"Ingresa el primer numero a sumar: \"))\n",
        "    self.n2=int(input(\"Ingresa el segundo numero a sumar: \"))\n",
        "  def sumanum(self):\n",
        "    self.resultado=self.n1+self.n2\n",
        "  def imprimir_resultados(self):\n",
        "    print(\"El Resultado es igual a: \",self.resultado)\n",
        "\n",
        "sumardosnums=SumaNum()\n",
        "sumardosnums.pedirnum()\n",
        "sumardosnums.sumanum()\n",
        "sumardosnums.imprimir_resultados()"
      ]
    },
    {
      "cell_type": "markdown",
      "source": [
        "Programa que Tiene Entrada, Proceso y Salida\n",
        "De dos numeros solicitados que dentro de las funciones de la clase, realiza los procesos e imprime el resultado en pantalla"
      ],
      "metadata": {
        "id": "rcdDg77GKWIB"
      }
    },
    {
      "cell_type": "markdown",
      "source": [
        "Class Operaciones, hecho el 6 de Febrero de 2025\n",
        "Editado y Corregido el 7 de Febrero de 2025"
      ],
      "metadata": {
        "id": "x2ORJsRBFYp5"
      }
    },
    {
      "cell_type": "code",
      "source": [
        "class Operaciones():\n",
        "    def __init__(self):\n",
        "        self.valor1=0\n",
        "        self.valor2=0\n",
        "        self.resul=0\n",
        "\n",
        "    def sumandoando(self):\n",
        "        resul = self.valor1 + self.valor2\n",
        "        print(\"La suma es igual a: \",resul)"
      ],
      "metadata": {
        "id": "0DkSyymBGNvz"
      },
      "execution_count": 35,
      "outputs": []
    },
    {
      "cell_type": "code",
      "source": [
        "obj=Operaciones()\n",
        "obj.valor1=int(input(\"Ingrese el primer valor: \"))\n",
        "obj.valor2=int(input(\"Ingrese el segundo valor: \"))\n",
        "obj.sumandoando()"
      ],
      "metadata": {
        "colab": {
          "base_uri": "https://localhost:8080/"
        },
        "id": "QR8A9jmjFPo0",
        "outputId": "026fda83-7dd7-4eef-c61a-e606f6368a7f"
      },
      "execution_count": 36,
      "outputs": [
        {
          "output_type": "stream",
          "name": "stdout",
          "text": [
            "Ingrese el primer valor: 20\n",
            "Ingrese el segundo valor: 20\n",
            "La suma es igual a:  40\n"
          ]
        }
      ]
    },
    {
      "cell_type": "markdown",
      "source": [
        "Programa que a traves de la solicitud (Entrada de 2 numeros, imprime en pantalla la multiplicación, suma, resta y division de los mismos)\n",
        "Con la leyenda \"El resultado de la (Operacion) entre (Numero 1) y (Numero 2) es igual a: \""
      ],
      "metadata": {
        "id": "ZPcvJXOiF5jc"
      }
    },
    {
      "cell_type": "markdown",
      "source": [
        "Programa Realizado el 7 de Febrero de 2025"
      ],
      "metadata": {
        "id": "AygJr0yvGa_b"
      }
    },
    {
      "cell_type": "code",
      "source": [
        "class Calculadora():\n",
        "  def __init__ (self):\n",
        "    self.numero1=0\n",
        "    self.numero2=0\n",
        "    self.resultado=0\n",
        "    self.msg=\"\"\n",
        "\n",
        "  def suma(self):\n",
        "    self.resultado_suma=self.numero1+self.numero2\n",
        "    self.msg=\"La suma de los numeros \",self.numero1, \" y \",self.numero2, \" es igual a: \",self.resultado_suma\n",
        "\n",
        "  def resta(self):\n",
        "    self.resultado_resta=self.numero1-self.numero2\n",
        "    self.msg=\"La resta de los numeros \",self.numero1, \" y \",self.numero2, \" es igual a: \",self.resultado_resta\n",
        "\n",
        "  def multiplicacion(self):\n",
        "    self.resultado_multi=self.numero1*self.numero2\n",
        "    self.msg=\"La multiplicación de los numeros \",self.numero1, \" y \",self.numero2, \" es igual a: \",self.resultado_multi\n",
        "\n",
        "  def division(self):\n",
        "    self.resultado_div=self.numero1/self.numero2\n",
        "    self.msg=\"La división de los numeros \",self.numero1, \" y \",self.numero2, \" es igual a: \",self.resultado_div\n",
        "\n",
        "\n",
        "  def imprimir(self):\n",
        "    print(self.msg)"
      ],
      "metadata": {
        "id": "TVEQaiINF5L9"
      },
      "execution_count": 37,
      "outputs": []
    },
    {
      "cell_type": "code",
      "source": [
        "programa3=Calculadora()\n",
        "programa3.numero1=int(input(\"Ingresa el primer numero: \"))\n",
        "programa3.numero2=int(input(\"Ingresa el segundo numero: \"))\n",
        "programa3.division()\n",
        "programa3.imprimir()\n",
        "programa3.multiplicacion()\n",
        "programa3.imprimir()\n",
        "programa3.resta()\n",
        "programa3.imprimir()\n",
        "programa3.suma()\n",
        "programa3.imprimir()"
      ],
      "metadata": {
        "colab": {
          "base_uri": "https://localhost:8080/"
        },
        "id": "bWnuxFmJJUop",
        "outputId": "6dc0c312-3217-4e2f-8980-9412492e8281"
      },
      "execution_count": 38,
      "outputs": [
        {
          "output_type": "stream",
          "name": "stdout",
          "text": [
            "Ingresa el primer numero: 100\n",
            "Ingresa el segundo numero: 10\n",
            "('La división de los numeros ', 100, ' y ', 10, ' es igual a: ', 10.0)\n",
            "('La multiplicación de los numeros ', 100, ' y ', 10, ' es igual a: ', 1000)\n",
            "('La resta de los numeros ', 100, ' y ', 10, ' es igual a: ', 90)\n",
            "('La suma de los numeros ', 100, ' y ', 10, ' es igual a: ', 110)\n"
          ]
        }
      ]
    }
  ]
}